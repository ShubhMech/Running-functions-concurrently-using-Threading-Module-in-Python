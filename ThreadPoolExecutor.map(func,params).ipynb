{
 "cells": [
  {
   "cell_type": "code",
   "execution_count": 1,
   "id": "c8510308-0f13-48ad-aa4a-d570a2d70622",
   "metadata": {},
   "outputs": [],
   "source": [
    "import time, threading"
   ]
  },
  {
   "cell_type": "code",
   "execution_count": 2,
   "id": "cf6ea2de-50cb-4805-b786-b79ad99e0973",
   "metadata": {},
   "outputs": [],
   "source": [
    "start=time.perf_counter()"
   ]
  },
  {
   "cell_type": "code",
   "execution_count": 3,
   "id": "65e02bdb-9f63-4e8d-bc8e-b52c920ae5a7",
   "metadata": {},
   "outputs": [],
   "source": [
    "def afunc():\n",
    "    print(\"Beginning to sleep!\")\n",
    "    time.sleep(1)\n",
    "    print(\"Finished sleeping!\")"
   ]
  },
  {
   "cell_type": "code",
   "execution_count": 4,
   "id": "7ce4a772-1aea-4011-bd56-15a1a5f943bf",
   "metadata": {},
   "outputs": [
    {
     "name": "stdout",
     "output_type": "stream",
     "text": [
      "Beginning to sleep!\n",
      "Finished sleeping!\n"
     ]
    }
   ],
   "source": [
    "afunc()"
   ]
  },
  {
   "cell_type": "code",
   "execution_count": 5,
   "id": "02fd60db-e7b1-4f9c-9ce4-9478aa3de290",
   "metadata": {},
   "outputs": [],
   "source": [
    "end=time.perf_counter()"
   ]
  },
  {
   "cell_type": "code",
   "execution_count": 6,
   "id": "f89cd889-e297-46f8-89c1-2ade0bc3f28c",
   "metadata": {},
   "outputs": [
    {
     "name": "stdout",
     "output_type": "stream",
     "text": [
      "Time taken is: 1.0611896000000005\n"
     ]
    }
   ],
   "source": [
    "print(f\"Time taken is: {end-start}\")"
   ]
  },
  {
   "cell_type": "markdown",
   "id": "3d79ec87-add7-44b0-83f5-7fec0f15abdd",
   "metadata": {},
   "source": [
    "#### Using Threading module now to see the difference"
   ]
  },
  {
   "cell_type": "code",
   "execution_count": 7,
   "id": "0ac2c3a2-42af-472d-aba6-f0bbc9d83da4",
   "metadata": {},
   "outputs": [],
   "source": [
    "start=time.perf_counter()"
   ]
  },
  {
   "cell_type": "code",
   "execution_count": 8,
   "id": "e90a2787-7533-4f84-add6-61dfe9d3ac0f",
   "metadata": {},
   "outputs": [],
   "source": [
    "t1=threading.Thread(target=afunc)\n",
    "t2=threading.Thread(target=afunc)\n"
   ]
  },
  {
   "cell_type": "code",
   "execution_count": 9,
   "id": "16d72e74-59c3-4ecc-b1d5-cc9b2d2ad316",
   "metadata": {},
   "outputs": [
    {
     "name": "stdout",
     "output_type": "stream",
     "text": [
      "Beginning to sleep!\n",
      "Beginning to sleep!\n"
     ]
    }
   ],
   "source": [
    "t1.start()\n",
    "t2.start()"
   ]
  },
  {
   "cell_type": "code",
   "execution_count": 10,
   "id": "37c083d1-a0b2-4d5e-aac9-e882cb6364e6",
   "metadata": {},
   "outputs": [
    {
     "name": "stdout",
     "output_type": "stream",
     "text": [
      "Finished sleeping!Finished sleeping!\n",
      "\n"
     ]
    }
   ],
   "source": [
    "t1.join()\n",
    "t2.join()"
   ]
  },
  {
   "cell_type": "code",
   "execution_count": 11,
   "id": "20d26add-09b7-430a-ad06-174faa5bf42e",
   "metadata": {},
   "outputs": [],
   "source": [
    "end=time.perf_counter()"
   ]
  },
  {
   "cell_type": "code",
   "execution_count": 12,
   "id": "aa965d9a-9da3-4415-925c-69c7cfc78a32",
   "metadata": {},
   "outputs": [
    {
     "name": "stdout",
     "output_type": "stream",
     "text": [
      "Time taken is: 1.0697957999999996\n"
     ]
    }
   ],
   "source": [
    "print(f\"Time taken is: {end-start}\")"
   ]
  },
  {
   "cell_type": "markdown",
   "id": "511eec04-2c21-411f-85c3-73a787310161",
   "metadata": {},
   "source": [
    "## Using concurrent module"
   ]
  },
  {
   "cell_type": "code",
   "execution_count": 30,
   "id": "52aa810a-3877-43d7-870f-5de0b0a003c9",
   "metadata": {},
   "outputs": [],
   "source": [
    "import concurrent.futures"
   ]
  },
  {
   "cell_type": "code",
   "execution_count": 31,
   "id": "2550db47-5d62-4d68-8466-8a5a6fe50d15",
   "metadata": {},
   "outputs": [],
   "source": [
    "start=time.perf_counter()"
   ]
  },
  {
   "cell_type": "code",
   "execution_count": 32,
   "id": "06205fc2-3b0b-412e-b5c3-b59243ab0a52",
   "metadata": {},
   "outputs": [],
   "source": [
    "def afunc():\n",
    "    print(\"Beginning to sleep!\")\n",
    "    time.sleep(1)\n",
    "    print(\"Finished sleeping!\")\n",
    "    return \"Hiiiiiii !!!\""
   ]
  },
  {
   "cell_type": "code",
   "execution_count": 33,
   "id": "8dab7541-e6fb-48bb-a9eb-5d2b226bb1a0",
   "metadata": {},
   "outputs": [
    {
     "name": "stdout",
     "output_type": "stream",
     "text": [
      "Beginning to sleep!\n",
      "Finished sleeping!\n",
      "Hiiiiiii !!!\n"
     ]
    }
   ],
   "source": [
    "with concurrent.futures.ThreadPoolExecutor() as executor :\n",
    "    f1=executor.submit(afunc)\n",
    "    print(f1.result())\n",
    "    "
   ]
  },
  {
   "cell_type": "code",
   "execution_count": 34,
   "id": "008ff1ac-55b0-4476-a2c1-f63fe9540d7e",
   "metadata": {},
   "outputs": [],
   "source": [
    "end=time.perf_counter()"
   ]
  },
  {
   "cell_type": "code",
   "execution_count": 35,
   "id": "5ff08bd3-718d-44a3-851c-17f4d76ff6a9",
   "metadata": {},
   "outputs": [
    {
     "name": "stdout",
     "output_type": "stream",
     "text": [
      "1.3713709999999821\n"
     ]
    }
   ],
   "source": [
    "print(end-start)"
   ]
  },
  {
   "cell_type": "markdown",
   "id": "2578278b-b08e-408e-ab0c-636d1681ae49",
   "metadata": {},
   "source": [
    "### Running a for loop for many such functions"
   ]
  },
  {
   "cell_type": "code",
   "execution_count": 41,
   "id": "dd96927a-9aae-41dd-9898-e96ace32aeab",
   "metadata": {},
   "outputs": [
    {
     "name": "stdout",
     "output_type": "stream",
     "text": [
      "Beginning to sleep!\n",
      "Beginning to sleep!\n",
      "Beginning to sleep!\n",
      "Beginning to sleep!\n",
      "Beginning to sleep!\n",
      "Beginning to sleep!\n",
      "Beginning to sleep!\n",
      "Beginning to sleep!\n",
      "Beginning to sleep!\n",
      "Beginning to sleep!\n",
      "Finished sleeping!\n",
      "Hiiiiiii !!!\n",
      "Finished sleeping!Finished sleeping!Finished sleeping!Finished sleeping!\n",
      "\n",
      "Hiiiiiii !!!\n",
      "\n",
      "Hiiiiiii !!!\n",
      "\n",
      "Hiiiiiii !!!\n",
      "Hiiiiiii !!!\n",
      "Finished sleeping!Finished sleeping!Finished sleeping!Finished sleeping!Finished sleeping!\n",
      "\n",
      "\n",
      "\n",
      "\n",
      "Hiiiiiii !!!\n",
      "Hiiiiiii !!!\n",
      "Hiiiiiii !!!\n",
      "Hiiiiiii !!!\n",
      "Hiiiiiii !!!\n",
      "1.0373395999999957\n"
     ]
    }
   ],
   "source": [
    "start=time.perf_counter()\n",
    "with concurrent.futures.ThreadPoolExecutor() as executor :\n",
    "    fs=[]\n",
    "    for i in range(0,10):\n",
    "        f=executor.submit(afunc)\n",
    "        fs.append(f)\n",
    "    for i in concurrent.futures.as_completed(fs):\n",
    "        print(i.result())\n",
    "    end=time.perf_counter()\n",
    "    \n",
    "print(end-start)"
   ]
  },
  {
   "cell_type": "code",
   "execution_count": null,
   "id": "93eef165-e15d-442f-8286-eeade20bc139",
   "metadata": {},
   "outputs": [
    {
     "name": "stdout",
     "output_type": "stream",
     "text": [
      "Beginning to sleep!Beginning to sleep!Beginning to sleep!\n",
      "\n",
      "\n",
      "Beginning to sleep!\n",
      "Beginning to sleep!\n",
      "<generator object <genexpr> at 0x000002CAB9E4D660>\n",
      "Finished sleeping!\n",
      "Finished sleeping!\n",
      "Finished sleeping!\n",
      "Finished sleeping!\n"
     ]
    }
   ],
   "source": [
    "def afunc(secs):\n",
    "    print(\"Beginning to sleep!\")\n",
    "    time.sleep(secs)\n",
    "    print(\"Finished sleeping!\")\n",
    "\n",
    "start=time.perf_counter()\n",
    "\n",
    "with concurrent.futures.ThreadPoolExecutor() as executor :\n",
    "    secs=[5,4,3,2,1]\n",
    "    results=executor.map(afunc,secs)\n",
    "    [print(result for result in results)]\n",
    "\n",
    "\n",
    "end=time.perf_counter()\n",
    "    \n",
    "print(end-start)"
   ]
  },
  {
   "cell_type": "code",
   "execution_count": null,
   "id": "854d89f4-e748-43ea-9554-ef9d69b3ecf8",
   "metadata": {},
   "outputs": [],
   "source": []
  }
 ],
 "metadata": {
  "kernelspec": {
   "display_name": "Python 3",
   "language": "python",
   "name": "python3"
  },
  "language_info": {
   "codemirror_mode": {
    "name": "ipython",
    "version": 3
   },
   "file_extension": ".py",
   "mimetype": "text/x-python",
   "name": "python",
   "nbconvert_exporter": "python",
   "pygments_lexer": "ipython3",
   "version": "3.8.5"
  }
 },
 "nbformat": 4,
 "nbformat_minor": 5
}
