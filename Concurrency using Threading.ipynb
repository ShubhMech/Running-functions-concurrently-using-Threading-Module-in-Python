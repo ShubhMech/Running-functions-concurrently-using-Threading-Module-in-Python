{
 "cells": [
  {
   "cell_type": "code",
   "execution_count": 7,
   "id": "c8510308-0f13-48ad-aa4a-d570a2d70622",
   "metadata": {},
   "outputs": [],
   "source": [
    "import time, threading"
   ]
  },
  {
   "cell_type": "code",
   "execution_count": 8,
   "id": "cf6ea2de-50cb-4805-b786-b79ad99e0973",
   "metadata": {},
   "outputs": [],
   "source": [
    "start=time.perf_counter()"
   ]
  },
  {
   "cell_type": "code",
   "execution_count": 9,
   "id": "65e02bdb-9f63-4e8d-bc8e-b52c920ae5a7",
   "metadata": {},
   "outputs": [],
   "source": [
    "def afunc():\n",
    "    print(\"Beginning to sleep!\")\n",
    "    time.sleep(1)\n",
    "    print(\"Finished sleeping!\")"
   ]
  },
  {
   "cell_type": "code",
   "execution_count": 10,
   "id": "7ce4a772-1aea-4011-bd56-15a1a5f943bf",
   "metadata": {},
   "outputs": [
    {
     "name": "stdout",
     "output_type": "stream",
     "text": [
      "Beginneiong to sleep!\n",
      "Finished sleeping!\n"
     ]
    }
   ],
   "source": [
    "afunc()"
   ]
  },
  {
   "cell_type": "code",
   "execution_count": 11,
   "id": "02fd60db-e7b1-4f9c-9ce4-9478aa3de290",
   "metadata": {},
   "outputs": [],
   "source": [
    "end=time.perf_counter()"
   ]
  },
  {
   "cell_type": "code",
   "execution_count": 13,
   "id": "f89cd889-e297-46f8-89c1-2ade0bc3f28c",
   "metadata": {},
   "outputs": [
    {
     "name": "stdout",
     "output_type": "stream",
     "text": [
      "Time taken is: 1.0566537999999923\n"
     ]
    }
   ],
   "source": [
    "print(f\"Time taken is: {end-start}\")"
   ]
  },
  {
   "cell_type": "markdown",
   "id": "3d79ec87-add7-44b0-83f5-7fec0f15abdd",
   "metadata": {},
   "source": [
    "#### Using Threading module now to see the difference"
   ]
  },
  {
   "cell_type": "code",
   "execution_count": 15,
   "id": "e90a2787-7533-4f84-add6-61dfe9d3ac0f",
   "metadata": {},
   "outputs": [],
   "source": [
    "t1=threading.Thread(target=afunc)\n",
    "t2=threading.Thread(target=afunc)\n"
   ]
  },
  {
   "cell_type": "code",
   "execution_count": 16,
   "id": "16d72e74-59c3-4ecc-b1d5-cc9b2d2ad316",
   "metadata": {},
   "outputs": [
    {
     "name": "stdout",
     "output_type": "stream",
     "text": [
      "Beginneiong to sleep!\n",
      "Beginneiong to sleep!\n",
      "Finished sleeping!\n",
      "Finished sleeping!\n"
     ]
    }
   ],
   "source": [
    "t1.start()\n",
    "t2.start()"
   ]
  },
  {
   "cell_type": "code",
   "execution_count": null,
   "id": "37c083d1-a0b2-4d5e-aac9-e882cb6364e6",
   "metadata": {},
   "outputs": [],
   "source": [
    "t1.join()\n",
    "t2.join()"
   ]
  }
 ],
 "metadata": {
  "kernelspec": {
   "display_name": "Python 3",
   "language": "python",
   "name": "python3"
  },
  "language_info": {
   "codemirror_mode": {
    "name": "ipython",
    "version": 3
   },
   "file_extension": ".py",
   "mimetype": "text/x-python",
   "name": "python",
   "nbconvert_exporter": "python",
   "pygments_lexer": "ipython3",
   "version": "3.8.5"
  }
 },
 "nbformat": 4,
 "nbformat_minor": 5
}
